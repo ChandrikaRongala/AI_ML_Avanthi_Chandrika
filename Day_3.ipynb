{
  "nbformat": 4,
  "nbformat_minor": 0,
  "metadata": {
    "colab": {
      "provenance": [],
      "authorship_tag": "ABX9TyO19IU6ATzx0onPkFCZ2/nw",
      "include_colab_link": true
    },
    "kernelspec": {
      "name": "python3",
      "display_name": "Python 3"
    },
    "language_info": {
      "name": "python"
    }
  },
  "cells": [
    {
      "cell_type": "markdown",
      "metadata": {
        "id": "view-in-github",
        "colab_type": "text"
      },
      "source": [
        "<a href=\"https://colab.research.google.com/github/ChandrikaRongala/AI_ML_Avanthi_Chandrika/blob/main/Day_3.ipynb\" target=\"_parent\"><img src=\"https://colab.research.google.com/assets/colab-badge.svg\" alt=\"Open In Colab\"/></a>"
      ]
    },
    {
      "cell_type": "code",
      "execution_count": null,
      "metadata": {
        "colab": {
          "base_uri": "https://localhost:8080/"
        },
        "id": "gzmvgnknoXSj",
        "outputId": "1e92d3fe-adc2-472d-ec2f-992782c2fcaf"
      },
      "outputs": [
        {
          "output_type": "stream",
          "name": "stdout",
          "text": [
            "dairy milk\n",
            "Snickers\n",
            "milkybar\n",
            "kitkat\n"
          ]
        }
      ],
      "source": [
        "\n",
        " #functions\n",
        "def chocolates():\n",
        "  print(\"dairy milk\")\n",
        "  print(\"Snickers\")\n",
        "  print(\"milkybar\")\n",
        "chocolates()\n",
        "print(\"kitkat\")"
      ]
    },
    {
      "cell_type": "code",
      "source": [
        "#both a and b can be used\n",
        "def number(a):\n",
        "  if a>=5:\n",
        "    print(\"Good\")\n",
        "  else:\n",
        "    print(\"Bad\")\n",
        "\n",
        "b=5\n",
        "number(b)\n",
        "b=10\n",
        "number(b)\n",
        "b=1\n",
        "number(b)"
      ],
      "metadata": {
        "colab": {
          "base_uri": "https://localhost:8080/"
        },
        "id": "oY_23XyIrr4f",
        "outputId": "17bfd4ab-2fba-4c56-c156-9347d6182b64"
      },
      "execution_count": 23,
      "outputs": [
        {
          "output_type": "stream",
          "name": "stdout",
          "text": [
            "Good\n",
            "Good\n",
            "Bad\n"
          ]
        }
      ]
    },
    {
      "cell_type": "code",
      "source": [],
      "metadata": {
        "id": "Kofj188ewuay"
      },
      "execution_count": null,
      "outputs": []
    },
    {
      "cell_type": "code",
      "source": [
        "#write a function to calculate the grades of a student based on their marks\n",
        "def grade():\n",
        "   marks=input (input(\"enter the marks\"))\n",
        "   if marks>=90 and marks<100:\n",
        "     Print(\"0\")\n",
        "   elif marks>=80 and marks<=89:\n",
        "     Print(\"A+\")\n",
        "   elif marks>=70 and marks<=79:\n",
        "     Print(\"B+\")\n",
        "   elif marks>=60 and marks<=69:\n",
        "     Print(\"c+\")\n",
        "   elif marks>=50 and marks<=59:\n",
        "     Print(\"D\")\n",
        "   else:\n",
        "     Print(\"fail\")\n",
        "for i in range(10):\n",
        "   grade()"
      ],
      "metadata": {
        "id": "sTsb6lHwx2Bd"
      },
      "execution_count": null,
      "outputs": []
    },
    {
      "cell_type": "code",
      "source": [
        "#parameters passing\n",
        "def number (a,b):\n",
        "  print(a)\n",
        "  print(b)\n",
        "a=5\n",
        "b=6\n",
        "number(a,b)"
      ],
      "metadata": {
        "colab": {
          "base_uri": "https://localhost:8080/"
        },
        "id": "SKRQ_u75wu5G",
        "outputId": "0ba4c1be-62e8-4e42-f7a0-353f6047fc7c"
      },
      "execution_count": 29,
      "outputs": [
        {
          "output_type": "stream",
          "name": "stdout",
          "text": [
            "5\n",
            "6\n"
          ]
        }
      ]
    },
    {
      "cell_type": "code",
      "source": [],
      "metadata": {
        "id": "4ES2kfOf8BAs"
      },
      "execution_count": null,
      "outputs": []
    }
  ]
}